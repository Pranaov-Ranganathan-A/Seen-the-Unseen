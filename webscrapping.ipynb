{
 "cells": [
  {
   "cell_type": "code",
   "execution_count": 329,
   "id": "56480403-ee03-4f7f-8448-de6b6f2b4650",
   "metadata": {},
   "outputs": [
    {
     "name": "stdout",
     "output_type": "stream",
     "text": [
      "Requirement already satisfied: requests in c:\\users\\apran\\anaconda3\\lib\\site-packages (2.32.2)\n",
      "Requirement already satisfied: beautifulsoup4 in c:\\users\\apran\\anaconda3\\lib\\site-packages (4.12.3)\n",
      "Requirement already satisfied: pandas in c:\\users\\apran\\anaconda3\\lib\\site-packages (2.2.2)\n",
      "Requirement already satisfied: charset-normalizer<4,>=2 in c:\\users\\apran\\anaconda3\\lib\\site-packages (from requests) (2.0.4)\n",
      "Requirement already satisfied: idna<4,>=2.5 in c:\\users\\apran\\anaconda3\\lib\\site-packages (from requests) (3.7)\n",
      "Requirement already satisfied: urllib3<3,>=1.21.1 in c:\\users\\apran\\anaconda3\\lib\\site-packages (from requests) (2.2.2)\n",
      "Requirement already satisfied: certifi>=2017.4.17 in c:\\users\\apran\\anaconda3\\lib\\site-packages (from requests) (2024.7.4)\n",
      "Requirement already satisfied: soupsieve>1.2 in c:\\users\\apran\\anaconda3\\lib\\site-packages (from beautifulsoup4) (2.5)\n",
      "Requirement already satisfied: numpy>=1.26.0 in c:\\users\\apran\\anaconda3\\lib\\site-packages (from pandas) (1.26.4)\n",
      "Requirement already satisfied: python-dateutil>=2.8.2 in c:\\users\\apran\\appdata\\roaming\\python\\python312\\site-packages (from pandas) (2.9.0.post0)\n",
      "Requirement already satisfied: pytz>=2020.1 in c:\\users\\apran\\anaconda3\\lib\\site-packages (from pandas) (2024.1)\n",
      "Requirement already satisfied: tzdata>=2022.7 in c:\\users\\apran\\anaconda3\\lib\\site-packages (from pandas) (2023.3)\n",
      "Requirement already satisfied: six>=1.5 in c:\\users\\apran\\appdata\\roaming\\python\\python312\\site-packages (from python-dateutil>=2.8.2->pandas) (1.16.0)\n"
     ]
    }
   ],
   "source": [
    "!pip install requests beautifulsoup4 pandas"
   ]
  },
  {
   "cell_type": "code",
   "execution_count": 330,
   "id": "3cd9d81f-e343-4e0a-a232-5f3ea2d258f0",
   "metadata": {},
   "outputs": [],
   "source": [
    "import requests\n",
    "from bs4 import BeautifulSoup"
   ]
  },
  {
   "cell_type": "code",
   "execution_count": 331,
   "id": "a234c3ea-22f0-4fbd-af64-0ae91388210c",
   "metadata": {},
   "outputs": [],
   "source": [
    "url = 'https://seenunseen.in/episodes/2024/'"
   ]
  },
  {
   "cell_type": "code",
   "execution_count": 332,
   "id": "af5af517-a846-4f0c-99d6-6dd03fbf1b5f",
   "metadata": {},
   "outputs": [],
   "source": [
    "html = requests.get(url)"
   ]
  },
  {
   "cell_type": "code",
   "execution_count": 333,
   "id": "db66e9ea-10a5-4094-ba97-84820e7266a4",
   "metadata": {},
   "outputs": [],
   "source": [
    "soup = BeautifulSoup(html.content, 'html.parser')"
   ]
  },
  {
   "cell_type": "code",
   "execution_count": 334,
   "id": "e62a4edc-947a-468d-b969-0ea0d55db198",
   "metadata": {},
   "outputs": [],
   "source": [
    "results = s.find(id='content')"
   ]
  },
  {
   "cell_type": "code",
   "execution_count": 335,
   "id": "d693fab7-6850-4ed1-9565-b6232c8178be",
   "metadata": {},
   "outputs": [],
   "source": [
    "episode_title = results.find_all('h2', class_='entry-title')"
   ]
  },
  {
   "cell_type": "code",
   "execution_count": 336,
   "id": "d6a9d04d-d6e6-4740-ae07-76859173553c",
   "metadata": {},
   "outputs": [
    {
     "name": "stdout",
     "output_type": "stream",
     "text": [
      "Episode 406: Sathya Saran and the Shaping of the Indian Woman\n",
      "Episode 405: The Forces That Shaped Hinduism\n",
      "Episode 404: Devdutt Pattanaik and the Stories That Shape Us\n",
      "Episode 403: Shikha Dalmia Is the Unpopulist\n",
      "Episode 402: Ajay Shah Brings the Dreams of the 20th Century\n",
      "Episode 401: Finding Love in Modern India\n",
      "Episode 400: Life Lessons That Are Priceless\n",
      "Episode 399: Divya Prakash Dubey: Ek Jeevani\n",
      "Episode 398: Eve Fairbanks Examines a Fractured Society\n",
      "Episode 397: Larry White and the First Principles of Money\n",
      "Episode 396: Mohammed Zubair and Pratik Sinha Are Fighting for Us\n",
      "Episode 395: Tanvi Madan Is the Kid Who Asked Why\n",
      "Episode 394: Arnold Kling and the Four Languages of Politics\n",
      "Episode 393: Amrita Agarwal Wants to Solve Healthcare\n",
      "Episode 392: Biju Rao Won’t Bow to Conventional Wisdom\n",
      "Episode 391: Shephali Bhatt Is Searching for the Incredible\n",
      "Episode 390: Sanjiv Sharma Sails Through 45 Years of Indian Entertainment\n",
      "Episode 389: Bhargavi Zaveri-Shah Will Not Wear a Blue Tie to Work\n",
      "Episode 388: Niranjan Rajadhyaksha Is the Impartial Spectator\n",
      "Episode 387: The Life and Times of the Indian Economy\n",
      "Episode 386: Shashi Verma Made London Move\n",
      "Episode 385: Vinayak Calling Vinayak\n",
      "Episode 384: Narayan Ramachandran Is Playing the Long Game\n",
      "Episode 383: Arati Kumar-Rao Took a One-Way Ticket\n",
      "Episode 382: Kushal Mehra Dives Into Hindu Thought\n",
      "Episode 381: V Vinay Has Lived a Life of Science\n",
      "Episode 380: Sowmya Dhanaraj Is Making a Difference\n",
      "Episode 379: Lant Pritchett Is on Team Prosperity\n",
      "Episode 378: Rohit Lamba Will Never Be Bezubaan\n",
      "Episode 377: Malini Goyal is the Curious One\n",
      "Episode 376: Postcards From Utsav Mamoria\n",
      "Episode 375: Karthik Muralidharan and the Bureaucrat’s Burden\n",
      "Episode 374: Making Policy Fun with Khyati Pathak and Friends\n",
      "Episode 373: Deepak VS and the Man Behind His Face\n",
      "Episode 372: Manjula Padmanabhan is a Forever Outsider\n",
      "Episode 371: Ram Guha Writes a Letter to a Friend\n",
      "Episode 370: Yugank Goyal Is out of the Box\n",
      "Episode 369: The Life and Times of Ira Pande\n",
      "Episode 368: Irfan, the Keeper of Memories\n",
      "Episode 367: Swapna Liddle and the Many Shades of Delhi\n"
     ]
    }
   ],
   "source": [
    "for episode in episode_title:\n",
    "    print(episode.text)"
   ]
  }
 ],
 "metadata": {
  "kernelspec": {
   "display_name": "Python 3 (ipykernel)",
   "language": "python",
   "name": "python3"
  },
  "language_info": {
   "codemirror_mode": {
    "name": "ipython",
    "version": 3
   },
   "file_extension": ".py",
   "mimetype": "text/x-python",
   "name": "python",
   "nbconvert_exporter": "python",
   "pygments_lexer": "ipython3",
   "version": "3.12.4"
  }
 },
 "nbformat": 4,
 "nbformat_minor": 5
}
